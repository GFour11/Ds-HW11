{
  "nbformat": 4,
  "nbformat_minor": 0,
  "metadata": {
    "colab": {
      "provenance": [],
      "authorship_tag": "ABX9TyMSwYxJIE+vTaFzt49LTypK",
      "include_colab_link": true
    },
    "kernelspec": {
      "name": "python3",
      "display_name": "Python 3"
    },
    "language_info": {
      "name": "python"
    }
  },
  "cells": [
    {
      "cell_type": "markdown",
      "metadata": {
        "id": "view-in-github",
        "colab_type": "text"
      },
      "source": [
        "<a href=\"https://colab.research.google.com/github/GFour11/Ds-HW11/blob/main/Homework11.ipynb\" target=\"_parent\"><img src=\"https://colab.research.google.com/assets/colab-badge.svg\" alt=\"Open In Colab\"/></a>"
      ]
    },
    {
      "cell_type": "code",
      "execution_count": 1,
      "metadata": {
        "id": "LFzbx7bfGR5A"
      },
      "outputs": [],
      "source": [
        "import numpy as np\n",
        "from keras.datasets import imdb\n",
        "from keras.models import Sequential\n",
        "from keras.layers import Embedding, SimpleRNN, LSTM, Bidirectional, Dense\n",
        "from keras.preprocessing import sequence"
      ]
    },
    {
      "cell_type": "code",
      "source": [
        "max_features = 10000\n",
        "maxlen = 500\n",
        "batch_size = 32"
      ],
      "metadata": {
        "id": "h-X-z5OOGiAU"
      },
      "execution_count": 11,
      "outputs": []
    },
    {
      "cell_type": "code",
      "source": [
        "(x_train, y_train), (x_test, y_test) = imdb.load_data(num_words=max_features)\n",
        "x_train = sequence.pad_sequences(x_train, maxlen=maxlen)\n",
        "x_test = sequence.pad_sequences(x_test, maxlen=maxlen)"
      ],
      "metadata": {
        "colab": {
          "base_uri": "https://localhost:8080/"
        },
        "id": "Ze25VWDcGomZ",
        "outputId": "a1924374-3e4d-43cb-f2b3-8f66209806b4"
      },
      "execution_count": 3,
      "outputs": [
        {
          "output_type": "stream",
          "name": "stdout",
          "text": [
            "Downloading data from https://storage.googleapis.com/tensorflow/tf-keras-datasets/imdb.npz\n",
            "17464789/17464789 [==============================] - 0s 0us/step\n"
          ]
        }
      ]
    },
    {
      "cell_type": "code",
      "source": [
        "model_rnn = Sequential()\n",
        "model_rnn.add(Embedding(max_features, 32))\n",
        "model_rnn.add(SimpleRNN(32))\n",
        "model_rnn.add(Dense(1, activation='sigmoid'))\n",
        "model_rnn.compile(optimizer='adam', loss='binary_crossentropy', metrics=['accuracy'])"
      ],
      "metadata": {
        "id": "88wfNRZ6GxsW"
      },
      "execution_count": 19,
      "outputs": []
    },
    {
      "cell_type": "code",
      "source": [
        "model_rnn.fit(x_train, y_train, epochs=5, batch_size=batch_size, validation_data=(x_test, y_test))"
      ],
      "metadata": {
        "colab": {
          "base_uri": "https://localhost:8080/"
        },
        "id": "tulzWhkpG5hY",
        "outputId": "f0dbaa7a-e061-472e-8cc3-57af85742a19"
      },
      "execution_count": 20,
      "outputs": [
        {
          "output_type": "stream",
          "name": "stdout",
          "text": [
            "Epoch 1/5\n",
            "782/782 [==============================] - 53s 67ms/step - loss: 0.5833 - accuracy: 0.6713 - val_loss: 0.4237 - val_accuracy: 0.8187\n",
            "Epoch 2/5\n",
            "782/782 [==============================] - 50s 64ms/step - loss: 0.3554 - accuracy: 0.8471 - val_loss: 0.4206 - val_accuracy: 0.8074\n",
            "Epoch 3/5\n",
            "782/782 [==============================] - 54s 69ms/step - loss: 0.2305 - accuracy: 0.9095 - val_loss: 0.6295 - val_accuracy: 0.6976\n",
            "Epoch 4/5\n",
            "782/782 [==============================] - 50s 64ms/step - loss: 0.1274 - accuracy: 0.9535 - val_loss: 0.5290 - val_accuracy: 0.8231\n",
            "Epoch 5/5\n",
            "782/782 [==============================] - 50s 64ms/step - loss: 0.0587 - accuracy: 0.9811 - val_loss: 0.6330 - val_accuracy: 0.8002\n"
          ]
        },
        {
          "output_type": "execute_result",
          "data": {
            "text/plain": [
              "<keras.src.callbacks.History at 0x7b4761933700>"
            ]
          },
          "metadata": {},
          "execution_count": 20
        }
      ]
    },
    {
      "cell_type": "code",
      "source": [
        "accuracy_rnn = model_rnn.evaluate(x_test, y_test)[1]\n",
        "print(f\"Accuracy of SimpleRNN model: {accuracy_rnn}\")"
      ],
      "metadata": {
        "colab": {
          "base_uri": "https://localhost:8080/"
        },
        "id": "S3sGSUwjHA9a",
        "outputId": "ada38122-d1dc-4196-e769-bf5181e4b1c1"
      },
      "execution_count": 21,
      "outputs": [
        {
          "output_type": "stream",
          "name": "stdout",
          "text": [
            "782/782 [==============================] - 12s 16ms/step - loss: 0.6330 - accuracy: 0.8002\n",
            "Accuracy of SimpleRNN model: 0.8002399802207947\n"
          ]
        }
      ]
    },
    {
      "cell_type": "markdown",
      "source": [
        "Тепер давайте створимо LSTM-модель"
      ],
      "metadata": {
        "id": "Qzs9sWi4SLzj"
      }
    },
    {
      "cell_type": "code",
      "source": [
        "model_lstm = Sequential()\n",
        "model_lstm.add(Embedding(max_features, 32))\n",
        "model_lstm.add(LSTM(32))\n",
        "model_lstm.add(Dense(1, activation='sigmoid'))\n",
        "model_lstm.compile(optimizer='adam', loss='binary_crossentropy', metrics=['accuracy'])\n"
      ],
      "metadata": {
        "id": "7k-m31rZSXY_"
      },
      "execution_count": 16,
      "outputs": []
    },
    {
      "cell_type": "code",
      "source": [
        "model_lstm.fit(x_train, y_train, epochs=5, batch_size=batch_size, validation_data=(x_test, y_test))"
      ],
      "metadata": {
        "colab": {
          "base_uri": "https://localhost:8080/"
        },
        "id": "Bj5vubjWXmVA",
        "outputId": "7d282e32-2962-4334-cd50-7b2c02ba3774"
      },
      "execution_count": 17,
      "outputs": [
        {
          "output_type": "stream",
          "name": "stdout",
          "text": [
            "Epoch 1/5\n",
            "782/782 [==============================] - 103s 127ms/step - loss: 0.3910 - accuracy: 0.8203 - val_loss: 0.3259 - val_accuracy: 0.8654\n",
            "Epoch 2/5\n",
            "782/782 [==============================] - 93s 118ms/step - loss: 0.2339 - accuracy: 0.9084 - val_loss: 0.3060 - val_accuracy: 0.8716\n",
            "Epoch 3/5\n",
            "782/782 [==============================] - 97s 124ms/step - loss: 0.1739 - accuracy: 0.9354 - val_loss: 0.5639 - val_accuracy: 0.8242\n",
            "Epoch 4/5\n",
            "782/782 [==============================] - 96s 123ms/step - loss: 0.1430 - accuracy: 0.9462 - val_loss: 0.3727 - val_accuracy: 0.8650\n",
            "Epoch 5/5\n",
            "782/782 [==============================] - 99s 127ms/step - loss: 0.1058 - accuracy: 0.9625 - val_loss: 0.4220 - val_accuracy: 0.8615\n"
          ]
        },
        {
          "output_type": "execute_result",
          "data": {
            "text/plain": [
              "<keras.src.callbacks.History at 0x7b475f902ec0>"
            ]
          },
          "metadata": {},
          "execution_count": 17
        }
      ]
    },
    {
      "cell_type": "code",
      "source": [
        "accuracy_lstm = model_lstm.evaluate(x_test, y_test)[1]\n",
        "print(f\"Accuracy of LSTM model: {accuracy_lstm}\")"
      ],
      "metadata": {
        "colab": {
          "base_uri": "https://localhost:8080/"
        },
        "id": "R7pLF12uXs4e",
        "outputId": "e734dab8-1f33-45d7-b715-2e919484d765"
      },
      "execution_count": 18,
      "outputs": [
        {
          "output_type": "stream",
          "name": "stdout",
          "text": [
            "782/782 [==============================] - 17s 22ms/step - loss: 0.4220 - accuracy: 0.8615\n",
            "Accuracy of LSTM model: 0.861519992351532\n"
          ]
        }
      ]
    },
    {
      "cell_type": "markdown",
      "source": [
        "Тепер побудуємо Bidirectional LSTM модель"
      ],
      "metadata": {
        "id": "KQGERd-MfsgS"
      }
    },
    {
      "cell_type": "code",
      "source": [
        "model_bidirectional = Sequential()\n",
        "model_bidirectional.add(Embedding(max_features, 32))\n",
        "model_bidirectional.add(Bidirectional(LSTM(32)))\n",
        "model_bidirectional.add(Dense(1, activation='sigmoid'))\n",
        "model_bidirectional.compile(optimizer='adam', loss='binary_crossentropy', metrics=['accuracy'])"
      ],
      "metadata": {
        "id": "SqQKc2QifvPK"
      },
      "execution_count": 23,
      "outputs": []
    },
    {
      "cell_type": "code",
      "source": [
        "model_bidirectional.fit(x_train, y_train, epochs=5, batch_size=batch_size, validation_data=(x_test, y_test))"
      ],
      "metadata": {
        "colab": {
          "base_uri": "https://localhost:8080/"
        },
        "id": "utc3WyHZf1Ks",
        "outputId": "59fd9f69-7d97-4c5c-a79f-ac9e9fa1362d"
      },
      "execution_count": 24,
      "outputs": [
        {
          "output_type": "stream",
          "name": "stdout",
          "text": [
            "Epoch 1/5\n",
            "782/782 [==============================] - 170s 212ms/step - loss: 0.3974 - accuracy: 0.8148 - val_loss: 0.3397 - val_accuracy: 0.8538\n",
            "Epoch 2/5\n",
            "782/782 [==============================] - 168s 214ms/step - loss: 0.2298 - accuracy: 0.9118 - val_loss: 0.3118 - val_accuracy: 0.8682\n",
            "Epoch 3/5\n",
            "782/782 [==============================] - 167s 214ms/step - loss: 0.1763 - accuracy: 0.9345 - val_loss: 0.3542 - val_accuracy: 0.8665\n",
            "Epoch 4/5\n",
            "782/782 [==============================] - 168s 215ms/step - loss: 0.1381 - accuracy: 0.9494 - val_loss: 0.3813 - val_accuracy: 0.8622\n",
            "Epoch 5/5\n",
            "782/782 [==============================] - 165s 211ms/step - loss: 0.0985 - accuracy: 0.9650 - val_loss: 0.4883 - val_accuracy: 0.8579\n"
          ]
        },
        {
          "output_type": "execute_result",
          "data": {
            "text/plain": [
              "<keras.src.callbacks.History at 0x7b475b493b80>"
            ]
          },
          "metadata": {},
          "execution_count": 24
        }
      ]
    },
    {
      "cell_type": "code",
      "source": [
        "accuracy_bidirectional = model_bidirectional.evaluate(x_test, y_test)[1]\n",
        "print(f\"Accuracy of Bidirectional LSTM model: {accuracy_bidirectional}\")"
      ],
      "metadata": {
        "colab": {
          "base_uri": "https://localhost:8080/"
        },
        "id": "Nw3kpFMdgI4X",
        "outputId": "b574a49a-82b5-4b6f-c20e-a9393b563d83"
      },
      "execution_count": 25,
      "outputs": [
        {
          "output_type": "stream",
          "name": "stdout",
          "text": [
            "782/782 [==============================] - 30s 39ms/step - loss: 0.4883 - accuracy: 0.8579\n",
            "Accuracy of Bidirectional LSTM model: 0.8579199910163879\n"
          ]
        }
      ]
    },
    {
      "cell_type": "markdown",
      "source": [
        "І на завершення зробимо глибоку LSTM модель"
      ],
      "metadata": {
        "id": "fih9jWcqvtVa"
      }
    },
    {
      "cell_type": "code",
      "source": [
        "model = Sequential()\n",
        "model.add(Embedding(max_features, 32))\n",
        "model.add(LSTM(32, return_sequences=True))\n",
        "model.add(LSTM(32))\n",
        "model.add(Dense(1, activation='sigmoid'))\n",
        "model.compile(optimizer='adam', loss='binary_crossentropy', metrics=['accuracy'])"
      ],
      "metadata": {
        "id": "22F19VE1vsQa"
      },
      "execution_count": 26,
      "outputs": []
    },
    {
      "cell_type": "code",
      "source": [
        "model.compile(optimizer='adam', loss='binary_crossentropy', metrics=['accuracy'])"
      ],
      "metadata": {
        "id": "PQSQGMoYwEzk"
      },
      "execution_count": 27,
      "outputs": []
    },
    {
      "cell_type": "code",
      "source": [
        "model.fit(x_train, y_train, epochs=5, batch_size=batch_size, validation_data=(x_test, y_test))"
      ],
      "metadata": {
        "colab": {
          "base_uri": "https://localhost:8080/"
        },
        "id": "VDgWBXRpwRLZ",
        "outputId": "7bd1b714-ecb7-4621-dfda-26ed6d344650"
      },
      "execution_count": 28,
      "outputs": [
        {
          "output_type": "stream",
          "name": "stdout",
          "text": [
            "Epoch 1/5\n",
            "782/782 [==============================] - 184s 230ms/step - loss: 0.3880 - accuracy: 0.8214 - val_loss: 0.3027 - val_accuracy: 0.8728\n",
            "Epoch 2/5\n",
            "782/782 [==============================] - 188s 240ms/step - loss: 0.2276 - accuracy: 0.9131 - val_loss: 0.3133 - val_accuracy: 0.8709\n",
            "Epoch 3/5\n",
            "782/782 [==============================] - 186s 238ms/step - loss: 0.1695 - accuracy: 0.9373 - val_loss: 0.3470 - val_accuracy: 0.8608\n",
            "Epoch 4/5\n",
            "782/782 [==============================] - 186s 237ms/step - loss: 0.1258 - accuracy: 0.9562 - val_loss: 0.5740 - val_accuracy: 0.8306\n",
            "Epoch 5/5\n",
            "782/782 [==============================] - 188s 241ms/step - loss: 0.0982 - accuracy: 0.9674 - val_loss: 0.4245 - val_accuracy: 0.8603\n"
          ]
        },
        {
          "output_type": "execute_result",
          "data": {
            "text/plain": [
              "<keras.src.callbacks.History at 0x7b4756567880>"
            ]
          },
          "metadata": {},
          "execution_count": 28
        }
      ]
    },
    {
      "cell_type": "code",
      "source": [
        "accuracy_deep = model.evaluate(x_test, y_test)[1]\n",
        "print(f\"Accuracy of Bidirectional LSTM model: {accuracy_deep}\")"
      ],
      "metadata": {
        "colab": {
          "base_uri": "https://localhost:8080/"
        },
        "id": "OdscEY1R1P2m",
        "outputId": "716f6eee-9400-4c22-b0b8-478dcf6d86f9"
      },
      "execution_count": 29,
      "outputs": [
        {
          "output_type": "stream",
          "name": "stdout",
          "text": [
            "782/782 [==============================] - 35s 45ms/step - loss: 0.4245 - accuracy: 0.8603\n",
            "Accuracy of Bidirectional LSTM model: 0.8602799773216248\n"
          ]
        }
      ]
    }
  ]
}